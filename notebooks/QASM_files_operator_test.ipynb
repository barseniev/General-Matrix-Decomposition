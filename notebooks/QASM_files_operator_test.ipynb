{
 "cells": [
  {
   "cell_type": "code",
   "execution_count": 8,
   "id": "6515eb71-db2e-4b16-911d-c01db301aa4d",
   "metadata": {},
   "outputs": [],
   "source": [
    "\"\"\" Program to check that all necessary operators are in QASM files.\n",
    "we compute coefficients using trace\n",
    "and compare the output with given circuit.\n",
    "\n",
    "As the result we know that all necessary operators are in QASM files.\n",
    "\"\"\"\n",
    "\n",
    "import math\n",
    "from icecream import ic\n",
    "import qiskit_qasm2\n",
    "from qiskit_qasm2 import load, CustomClassical\n",
    "import matplotlib.pyplot as plt\n",
    "import matplotlib.colors as colors\n",
    "import numpy as np\n",
    "from scipy.linalg import expm\n",
    "from numpy.linalg import norm, matrix_power\n",
    "from functools import reduce\n",
    "from itertools import product\n",
    "from qiskit import QuantumCircuit\n",
    "import qiskit.quantum_info as qi\n",
    "from matplotlib.ticker import MaxNLocator\n",
    "import time\n",
    "\n",
    "from os import listdir\n",
    "from os.path import isfile, join\n",
    "\n",
    "PAULIS = {'I': np.eye(2, dtype='complex'),\n",
    "          'X': np.array([[0, 1], [1, 0]], dtype='complex'),\n",
    "          'Y': np.array([[0, -1j], [1j, 0]]),\n",
    "          'Z': np.diag(np.array([1, -1], dtype='complex'))}\n",
    "\n",
    "\n",
    "def speed_multiple(b,c_map):\n",
    "    \"\"\"Multiply each column of a matrix by given constant.\"\"\"\n",
    "    for j, c in enumerate(c_map):\n",
    "        b[:,j] *= c\n",
    "    return b\n",
    "\n",
    "## for higher order the coefficients are of order 10^24/10^28\n",
    "B_sign = {3: (np.array([-1,0,1]),2),\n",
    "          5: (np.array([1,-8,0,8,-1]),12),\n",
    "          7: (np.array([-1,9,-45,0,45,-9,1]),60),\n",
    "          9: (np.array([3,-32,168,-672,0,672,-168,32,-3]),840),\n",
    "          11: (np.array([-2,25,-150,600,-2100,0,2100,-600,150,-25,2]),2520)}\n",
    "\n",
    "def make_B(N, coefs, cbase):\n",
    "    \"\"\" make matrix B s.t. L = -BB.T with correct zero boundary conditions.\n",
    "    N - size of B.\n",
    "    coefs - list of coefficients.\n",
    "    cbase - divider.\n",
    "    \n",
    "    \"\"\"\n",
    "    B = np.zeros((N,N))\n",
    "    l = len(coefs)//2\n",
    "    diags = list(range(-l,l+1))\n",
    "    for i,val in zip(diags,coefs):\n",
    "        B += val*np.eye(N,k=i)\n",
    "\n",
    "    ### Boundary connditions\n",
    "    ## left side\n",
    "    B[0,:] = np.zeros_like(B[0,:])\n",
    "    B[:,0] = np.zeros_like(B[:,0])\n",
    "    \n",
    "    for i in range(l):\n",
    "        coef_temp = coefs[-(i+1):]\n",
    "        B[l-i,:len(coef_temp)] = B[l-i,:len(coef_temp)] - coef_temp\n",
    "        # print(l-i, coef_temp)\n",
    "    B[:,0] = B[:,0]*np.sqrt(2)\n",
    "\n",
    "    ## right side\n",
    "    B[-1,:] = np.zeros_like(B[-1,:])\n",
    "    B[:,-1] = np.zeros_like(B[:,-1])\n",
    "    for i in range(l):\n",
    "        coef_temp = coefs[:(i+1)]\n",
    "        B[-(l-i)-1,-len(coef_temp):] = B[-(l-i)-1,-len(coef_temp):] - coef_temp\n",
    "        # print(-(l-i)-1, coef_temp)\n",
    "    B[:,-1] = B[:,-1]*np.sqrt(2)\n",
    "    \n",
    "    # return B\n",
    "    return B/cbase\n",
    "\n",
    "def W(gr, wl, cb):\n",
    "    p_str = w_coef_dict[(gr, wl, cb)]\n",
    "    P = reduce(np.kron, [PAULIS[s] for s in p_str])\n",
    "    alpha_trace = np.trace(H@P)/(2**NQ) # compute coefficient as inner product\n",
    "    assert alpha_trace.imag == 0\n",
    "    alpha_trace = alpha_trace.real\n",
    "    weights_from_func_W.append(alpha_trace)\n",
    "    return 2*alpha_trace*t\n",
    "\n",
    "customs = [\n",
    "    CustomClassical(\"w\", 3, W),\n",
    "]"
   ]
  },
  {
   "cell_type": "code",
   "execution_count": 9,
   "id": "ec66aeb8-8831-42cf-98dd-0e4692f8fcb7",
   "metadata": {},
   "outputs": [
    {
     "name": "stdout",
     "output_type": "stream",
     "text": [
      "[[  0.    0.    0.    0.    0.    0.    0.    0. ]\n",
      " [-63.6   9.   44.   -9.    1.    0.    0.    0. ]\n",
      " [ 12.7 -46.    0.   45.   -9.    1.    0.    0. ]\n",
      " [ -1.4   9.  -45.    0.   45.   -9.    1.    0. ]\n",
      " [  0.   -1.    9.  -45.    0.   45.   -9.    1.4]\n",
      " [  0.    0.   -1.    9.  -45.    0.   46.  -12.7]\n",
      " [  0.    0.    0.   -1.    9.  -44.   -9.   63.6]\n",
      " [  0.    0.    0.    0.    0.    0.    0.    0. ]]\n"
     ]
    }
   ],
   "source": [
    "\"\"\"Parameters\"\"\"\n",
    "\n",
    "acc_order = 6 # to take files from SAMPLEOUT-{acc_order}\n",
    "\n",
    "l = 2\n",
    "t = 0.7\n",
    "c_max = 1\n",
    "\n",
    "NQ = 4\n",
    "nq = NQ - 1\n",
    "\n",
    "x_real = np.linspace(0,l,2**(nq))\n",
    "dx = x_real[1]-x_real[0]\n",
    "\n",
    "c_map = [c_max]*(2**nq) # np.random.rand(2**nq)*c_max\n",
    "# c_map = np.random.rand(2**nq)*c_max\n",
    "\n",
    "\"\"\"Manual generation of desired B, H, exp(-iHt/dx)\"\"\"\n",
    "coef_B,cb_B = B_sign[7]\n",
    "B = make_B(2**(nq),coef_B,cb_B)\n",
    "\n",
    "assert len(x_real) == B.shape[0]\n",
    "\n",
    "B = speed_multiple(B, c_map)\n",
    "\n",
    "H = np.block([[np.zeros_like(B), B],[B.T, np.zeros_like(B)]])\n",
    "\n",
    "exp_H = expm(-1j*H*t/dx)\n",
    "\n",
    "print(np.round(B*cb_B,1))"
   ]
  },
  {
   "cell_type": "code",
   "execution_count": 10,
   "id": "1ec21105-3669-4df4-a28f-993fcd67e46c",
   "metadata": {},
   "outputs": [
    {
     "name": "stdout",
     "output_type": "stream",
     "text": [
      "||H - H_rec|| = 1.4190843872370323e-16\n",
      "||exp_H - exp_H_rec|| = 1.5135608984118127e-15\n"
     ]
    }
   ],
   "source": [
    "\"\"\"Reading QASM files\"\"\"\n",
    "\n",
    "ic.disable()\n",
    "\n",
    "mypath = 'SAMPLEOUT-{}'.format(acc_order)\n",
    "file_names = [join(mypath, f) for f in listdir(mypath) if isfile(join(mypath, f)) and '-{}_{}_'.format(acc_order,NQ) in f]\n",
    "dict_sets = dict(zip(range(len(file_names)),file_names))\n",
    "\n",
    "\n",
    "H_rec = 0j\n",
    "for filename in file_names:\n",
    "    \"\"\"Read Pauli strings and coefficients (signs) from file \"\"\"\n",
    "    p_str_list = []\n",
    "    p_str_list_diag = []\n",
    "    w_coef_dict = {}\n",
    "\n",
    "    with open(filename) as f:\n",
    "        counter = 0 # to count lines starting with //\n",
    "        for line in f:\n",
    "            line = line.strip()\n",
    "            if 'Differential coefficients' in line:\n",
    "                counter = 1\n",
    "\n",
    "            if counter == 1: # diagonal part (Rz)\n",
    "                if 'rz(' in line:\n",
    "                    temp = line.split()[2] # //XIII,+ZIII\n",
    "                    p_str_d = temp[-NQ-1:] # e.g. +IZIZI\n",
    "                    p_str = temp[2:NQ+2] # e.g. XYXYX\n",
    "\n",
    "                    temp = line.split()[0]\n",
    "                    w_coef = tuple([int(i) for i in temp[5:-2].split(',')])# e.g. (10,2,60)\n",
    "\n",
    "                    p_str_list.append(p_str)\n",
    "                    p_str_list_diag.append(p_str_d)\n",
    "                    w_coef_dict[w_coef] = p_str\n",
    "    \n",
    "    \"\"\"Read circuit from QASM file \"\"\"\n",
    "    \n",
    "    weights_from_func_W = []\n",
    "    # print(filename, 't = {}'.format(t))\n",
    "    circuit_l = load(filename, custom_classical=customs).reverse_bits()\n",
    "    matrix_l = qi.Operator(circuit_l).data\n",
    "\n",
    "    ic(filename, p_str_list, p_str_list_diag, weights_from_func_W, w_coef_dict)\n",
    "\n",
    "    \"\"\"Compare results\"\"\"\n",
    "    \n",
    "    H_group = 0j # reconstructed Hamiltonian (sum of alpha_j P_j)\n",
    "    # expm_prod = np.eye(2**NQ) # One step in Trotter formula (Product of expm(-i t alpha_j P_j)\n",
    "    sum_error_coef = 0\n",
    "    \n",
    "    for p_str, p_str_d, alpha_trace in zip(p_str_list,p_str_list_diag, weights_from_func_W):\n",
    "\n",
    "        P = reduce(np.kron, [PAULIS[s] for s in p_str])\n",
    "        H_group += alpha_trace*P\n",
    "        \n",
    "        # H_group += sign*wwH*P # resulted Hamiltonian, with weights computed in c programm\n",
    "        # expm_prod = expm_prod@expm(-1j*sign*wwH*P*t) # resulted one step circuit, with weights computed in c programm\n",
    "        # expm_prod = expm_prod@expm(-1j*alpha_trace*P*t) # resulted one step circuit, with weights computed as trace\n",
    "    \n",
    "    # exp_H_group = expm(-1j*H_group*t)\n",
    " \n",
    "    H_rec += H_group\n",
    "exp_H_rec = expm(-1j*H_rec*t/dx)\n",
    "print('||H - H_rec|| =', norm(H - H_rec))\n",
    "print('||exp_H - exp_H_rec|| =', norm(exp_H - exp_H_rec))\n",
    "\n",
    "#     print('Sum of coefficients difference norm:', sum_error_coef)\n",
    "#     print('Circuit: ||П expm(-1j*alpha*P*t) - circuit|| =', norm(expm_prod - matrix_l))\n",
    "# #     print('Commutation: ||expm(-1j*H*t) - П expm(-1j*alpha*P*t)|| =', norm(exp_H_rec - expm_prod))\n",
    "#     print('-------------------------------------------------------','\\n')\n",
    "\n",
    "\n",
    "ic.enable()"
   ]
  },
  {
   "cell_type": "markdown",
   "id": "aaf3eec6-6f94-4766-90b2-6271d0c5d531",
   "metadata": {},
   "source": [
    "## Matrix visualisation"
   ]
  },
  {
   "cell_type": "code",
   "execution_count": 11,
   "id": "8e5266f2-b68e-4d59-a050-171522473678",
   "metadata": {},
   "outputs": [
    {
     "data": {
      "text/plain": [
       "<matplotlib.image.AxesImage at 0x7f8d3761a2f0>"
      ]
     },
     "execution_count": 11,
     "metadata": {},
     "output_type": "execute_result"
    },
    {
     "data": {
      "image/png": "[encoded data removed]",
      "text/plain": [
       "<Figure size 640x480 with 1 Axes>"
      ]
     },
     "metadata": {},
     "output_type": "display_data"
    }
   ],
   "source": [
    "plt.imshow(H_rec.real)"
   ]
  },
  {
   "cell_type": "code",
   "execution_count": 12,
   "id": "cafcaa44-ad17-40cb-bba9-a2f755edf194",
   "metadata": {},
   "outputs": [
    {
     "data": {
      "text/plain": [
       "<matplotlib.image.AxesImage at 0x7f8d374c2020>"
      ]
     },
     "execution_count": 12,
     "metadata": {},
     "output_type": "execute_result"
    },
    {
     "data": {
      "image/png": "[encoded data removed]",
      "text/plain": [
       "<Figure size 640x480 with 1 Axes>"
      ]
     },
     "metadata": {},
     "output_type": "display_data"
    }
   ],
   "source": [
    "plt.imshow(H.real)"
   ]
  },
  {
   "cell_type": "code",
   "execution_count": 13,
   "id": "e0acd4d6-9847-4142-8099-61bb5de20c0e",
   "metadata": {},
   "outputs": [
    {
     "name": "stdout",
     "output_type": "stream",
     "text": [
      "0.0 0.0 0.0 0.0 0.0 0.0 0.0 0.0 0.0 0.0 -0.0 0.0 0.0 0.0 0.0 0.0\n",
      "0.0 0.0 0.0 0.0 0.0 0.0 0.0 0.0 -63.6 9.0 44.0 -9.0 1.0 0.0 0.0 0.0\n",
      "0.0 0.0 0.0 0.0 0.0 0.0 0.0 0.0 12.7 -46.0 0.0 45.0 -9.0 1.0 0.0 0.0\n",
      "0.0 0.0 0.0 0.0 0.0 0.0 0.0 0.0 -1.4 9.0 -45.0 0.0 45.0 -9.0 1.0 0.0\n",
      "0.0 0.0 0.0 0.0 0.0 0.0 0.0 0.0 0.0 -1.0 9.0 -45.0 0.0 45.0 -9.0 1.4\n",
      "0.0 0.0 0.0 0.0 0.0 0.0 0.0 0.0 0.0 0.0 -1.0 9.0 -45.0 0.0 46.0 -12.7\n",
      "0.0 0.0 0.0 0.0 0.0 0.0 0.0 0.0 0.0 0.0 0.0 -1.0 9.0 -44.0 -9.0 63.6\n",
      "0.0 0.0 0.0 0.0 0.0 0.0 0.0 0.0 0.0 0.0 0.0 0.0 0.0 0.0 0.0 0.0\n",
      "0.0 -63.6 12.7 -1.4 0.0 0.0 0.0 0.0 0.0 0.0 0.0 0.0 0.0 0.0 0.0 0.0\n",
      "0.0 9.0 -46.0 9.0 -1.0 0.0 0.0 0.0 0.0 0.0 0.0 0.0 0.0 0.0 0.0 0.0\n",
      "-0.0 44.0 0.0 -45.0 9.0 -1.0 0.0 0.0 0.0 0.0 0.0 0.0 0.0 0.0 0.0 0.0\n",
      "0.0 -9.0 45.0 0.0 -45.0 9.0 -1.0 0.0 0.0 0.0 0.0 0.0 0.0 0.0 0.0 0.0\n",
      "0.0 1.0 -9.0 45.0 0.0 -45.0 9.0 0.0 0.0 0.0 0.0 0.0 0.0 0.0 0.0 0.0\n",
      "0.0 0.0 1.0 -9.0 45.0 0.0 -44.0 0.0 0.0 0.0 0.0 0.0 0.0 0.0 0.0 0.0\n",
      "0.0 0.0 0.0 1.0 -9.0 46.0 -9.0 0.0 0.0 0.0 0.0 0.0 0.0 0.0 0.0 0.0\n",
      "0.0 0.0 0.0 0.0 1.4 -12.7 63.6 0.0 0.0 0.0 0.0 0.0 0.0 0.0 0.0 0.0\n"
     ]
    }
   ],
   "source": [
    "for i in H_rec*cb_B:\n",
    "    print(' '.join(str(j) for j in np.round(i,1).real))"
   ]
  },
  {
   "cell_type": "code",
   "execution_count": 14,
   "id": "ce89d309-7f43-42bb-8ad3-992071915ece",
   "metadata": {},
   "outputs": [
    {
     "name": "stdout",
     "output_type": "stream",
     "text": [
      "0.0 0.0 0.0 0.0 0.0 0.0 0.0 0.0 0.0 0.0 0.0 0.0 0.0 0.0 0.0 0.0\n",
      "0.0 0.0 0.0 0.0 0.0 0.0 0.0 0.0 -63.6 9.0 44.0 -9.0 1.0 0.0 0.0 0.0\n",
      "0.0 0.0 0.0 0.0 0.0 0.0 0.0 0.0 12.7 -46.0 0.0 45.0 -9.0 1.0 0.0 0.0\n",
      "0.0 0.0 0.0 0.0 0.0 0.0 0.0 0.0 -1.4 9.0 -45.0 0.0 45.0 -9.0 1.0 0.0\n",
      "0.0 0.0 0.0 0.0 0.0 0.0 0.0 0.0 0.0 -1.0 9.0 -45.0 0.0 45.0 -9.0 1.4\n",
      "0.0 0.0 0.0 0.0 0.0 0.0 0.0 0.0 0.0 0.0 -1.0 9.0 -45.0 0.0 46.0 -12.7\n",
      "0.0 0.0 0.0 0.0 0.0 0.0 0.0 0.0 0.0 0.0 0.0 -1.0 9.0 -44.0 -9.0 63.6\n",
      "0.0 0.0 0.0 0.0 0.0 0.0 0.0 0.0 0.0 0.0 0.0 0.0 0.0 0.0 0.0 0.0\n",
      "0.0 -63.6 12.7 -1.4 0.0 0.0 0.0 0.0 0.0 0.0 0.0 0.0 0.0 0.0 0.0 0.0\n",
      "0.0 9.0 -46.0 9.0 -1.0 0.0 0.0 0.0 0.0 0.0 0.0 0.0 0.0 0.0 0.0 0.0\n",
      "0.0 44.0 0.0 -45.0 9.0 -1.0 0.0 0.0 0.0 0.0 0.0 0.0 0.0 0.0 0.0 0.0\n",
      "0.0 -9.0 45.0 0.0 -45.0 9.0 -1.0 0.0 0.0 0.0 0.0 0.0 0.0 0.0 0.0 0.0\n",
      "0.0 1.0 -9.0 45.0 0.0 -45.0 9.0 0.0 0.0 0.0 0.0 0.0 0.0 0.0 0.0 0.0\n",
      "0.0 0.0 1.0 -9.0 45.0 0.0 -44.0 0.0 0.0 0.0 0.0 0.0 0.0 0.0 0.0 0.0\n",
      "0.0 0.0 0.0 1.0 -9.0 46.0 -9.0 0.0 0.0 0.0 0.0 0.0 0.0 0.0 0.0 0.0\n",
      "0.0 0.0 0.0 0.0 1.4 -12.7 63.6 0.0 0.0 0.0 0.0 0.0 0.0 0.0 0.0 0.0\n"
     ]
    }
   ],
   "source": [
    "for i in H*cb_B:\n",
    "    print(' '.join(str(j) for j in np.round(i,1).real))"
   ]
  }
 ],
 "metadata": {
  "kernelspec": {
   "display_name": "Python 3 (ipykernel)",
   "language": "python",
   "name": "python3"
  },
  "language_info": {
   "codemirror_mode": {
    "name": "ipython",
    "version": 3
   },
   "file_extension": ".py",
   "mimetype": "text/x-python",
   "name": "python",
   "nbconvert_exporter": "python",
   "pygments_lexer": "ipython3",
   "version": "3.10.12"
  }
 },
 "nbformat": 4,
 "nbformat_minor": 5
}
